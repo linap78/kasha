{
 "cells": [
  {
   "cell_type": "markdown",
   "id": "531dd54d",
   "metadata": {},
   "source": [
    "Импорт pandas"
   ]
  },
  {
   "cell_type": "code",
   "execution_count": 132,
   "id": "1b71a93a",
   "metadata": {},
   "outputs": [],
   "source": [
    "import pandas as pd"
   ]
  },
  {
   "cell_type": "code",
   "execution_count": 133,
   "id": "0594d498",
   "metadata": {},
   "outputs": [
    {
     "data": {
      "text/html": [
       "<div>\n",
       "<style scoped>\n",
       "    .dataframe tbody tr th:only-of-type {\n",
       "        vertical-align: middle;\n",
       "    }\n",
       "\n",
       "    .dataframe tbody tr th {\n",
       "        vertical-align: top;\n",
       "    }\n",
       "\n",
       "    .dataframe thead th {\n",
       "        text-align: right;\n",
       "    }\n",
       "</style>\n",
       "<table border=\"1\" class=\"dataframe\">\n",
       "  <thead>\n",
       "    <tr style=\"text-align: right;\">\n",
       "      <th></th>\n",
       "      <th>id</th>\n",
       "      <th>ingredient</th>\n",
       "      <th>amount</th>\n",
       "      <th>name</th>\n",
       "      <th>type</th>\n",
       "      <th>page</th>\n",
       "    </tr>\n",
       "  </thead>\n",
       "  <tbody>\n",
       "    <tr>\n",
       "      <th>0</th>\n",
       "      <td>13411</td>\n",
       "      <td>Вода</td>\n",
       "      <td>1 л</td>\n",
       "      <td>kapusta-po-gruzinski-137009</td>\n",
       "      <td>zagotovki</td>\n",
       "      <td>1</td>\n",
       "    </tr>\n",
       "    <tr>\n",
       "      <th>1</th>\n",
       "      <td>13410</td>\n",
       "      <td>Сахар</td>\n",
       "      <td>90 г</td>\n",
       "      <td>kapusta-po-gruzinski-137009</td>\n",
       "      <td>zagotovki</td>\n",
       "      <td>1</td>\n",
       "    </tr>\n",
       "    <tr>\n",
       "      <th>2</th>\n",
       "      <td>13421</td>\n",
       "      <td>Соль</td>\n",
       "      <td>12 г</td>\n",
       "      <td>kapusta-po-gruzinski-137009</td>\n",
       "      <td>zagotovki</td>\n",
       "      <td>1</td>\n",
       "    </tr>\n",
       "    <tr>\n",
       "      <th>3</th>\n",
       "      <td>14585</td>\n",
       "      <td>Уксус 9%-ный</td>\n",
       "      <td>250 мл</td>\n",
       "      <td>kapusta-po-gruzinski-137009</td>\n",
       "      <td>zagotovki</td>\n",
       "      <td>1</td>\n",
       "    </tr>\n",
       "    <tr>\n",
       "      <th>4</th>\n",
       "      <td>13436</td>\n",
       "      <td>Белокочанная капуста</td>\n",
       "      <td>1 штука</td>\n",
       "      <td>kapusta-po-gruzinski-137009</td>\n",
       "      <td>zagotovki</td>\n",
       "      <td>1</td>\n",
       "    </tr>\n",
       "    <tr>\n",
       "      <th>...</th>\n",
       "      <td>...</td>\n",
       "      <td>...</td>\n",
       "      <td>...</td>\n",
       "      <td>...</td>\n",
       "      <td>...</td>\n",
       "      <td>...</td>\n",
       "    </tr>\n",
       "    <tr>\n",
       "      <th>1159670</th>\n",
       "      <td>13458</td>\n",
       "      <td>Пшеничная мука</td>\n",
       "      <td>1 стакан</td>\n",
       "      <td>shokoladno-tvorozhnij-tort-chokochiz-49974</td>\n",
       "      <td>vypechka-deserty</td>\n",
       "      <td>1719</td>\n",
       "    </tr>\n",
       "    <tr>\n",
       "      <th>1159671</th>\n",
       "      <td>13546</td>\n",
       "      <td>Какао</td>\n",
       "      <td>2 столовые ложки</td>\n",
       "      <td>shokoladno-tvorozhnij-tort-chokochiz-49974</td>\n",
       "      <td>vypechka-deserty</td>\n",
       "      <td>1719</td>\n",
       "    </tr>\n",
       "    <tr>\n",
       "      <th>1159672</th>\n",
       "      <td>14232</td>\n",
       "      <td>Ликер</td>\n",
       "      <td>1 столовая ложка</td>\n",
       "      <td>shokoladno-tvorozhnij-tort-chokochiz-49974</td>\n",
       "      <td>vypechka-deserty</td>\n",
       "      <td>1719</td>\n",
       "    </tr>\n",
       "    <tr>\n",
       "      <th>1159673</th>\n",
       "      <td>13412</td>\n",
       "      <td>Сливочное масло</td>\n",
       "      <td>200 г</td>\n",
       "      <td>shokoladno-tvorozhnij-tort-chokochiz-49974</td>\n",
       "      <td>vypechka-deserty</td>\n",
       "      <td>1719</td>\n",
       "    </tr>\n",
       "    <tr>\n",
       "      <th>1159674</th>\n",
       "      <td>13561</td>\n",
       "      <td>Горький шоколад</td>\n",
       "      <td>200 г</td>\n",
       "      <td>shokoladno-tvorozhnij-tort-chokochiz-49974</td>\n",
       "      <td>vypechka-deserty</td>\n",
       "      <td>1719</td>\n",
       "    </tr>\n",
       "  </tbody>\n",
       "</table>\n",
       "<p>1159675 rows × 6 columns</p>\n",
       "</div>"
      ],
      "text/plain": [
       "            id            ingredient            amount  \\\n",
       "0        13411                  Вода               1 л   \n",
       "1        13410                 Сахар              90 г   \n",
       "2        13421                  Соль              12 г   \n",
       "3        14585          Уксус 9%-ный            250 мл   \n",
       "4        13436  Белокочанная капуста           1 штука   \n",
       "...        ...                   ...               ...   \n",
       "1159670  13458        Пшеничная мука          1 стакан   \n",
       "1159671  13546                 Какао  2 столовые ложки   \n",
       "1159672  14232                 Ликер  1 столовая ложка   \n",
       "1159673  13412       Сливочное масло             200 г   \n",
       "1159674  13561       Горький шоколад             200 г   \n",
       "\n",
       "                                               name              type  page  \n",
       "0                       kapusta-po-gruzinski-137009         zagotovki     1  \n",
       "1                       kapusta-po-gruzinski-137009         zagotovki     1  \n",
       "2                       kapusta-po-gruzinski-137009         zagotovki     1  \n",
       "3                       kapusta-po-gruzinski-137009         zagotovki     1  \n",
       "4                       kapusta-po-gruzinski-137009         zagotovki     1  \n",
       "...                                             ...               ...   ...  \n",
       "1159670  shokoladno-tvorozhnij-tort-chokochiz-49974  vypechka-deserty  1719  \n",
       "1159671  shokoladno-tvorozhnij-tort-chokochiz-49974  vypechka-deserty  1719  \n",
       "1159672  shokoladno-tvorozhnij-tort-chokochiz-49974  vypechka-deserty  1719  \n",
       "1159673  shokoladno-tvorozhnij-tort-chokochiz-49974  vypechka-deserty  1719  \n",
       "1159674  shokoladno-tvorozhnij-tort-chokochiz-49974  vypechka-deserty  1719  \n",
       "\n",
       "[1159675 rows x 6 columns]"
      ]
     },
     "execution_count": 133,
     "metadata": {},
     "output_type": "execute_result"
    }
   ],
   "source": [
    "df = pd.read_csv(\"ingredients_from_eda.ru.csv\")\n",
    "df"
   ]
  },
  {
   "cell_type": "markdown",
   "id": "f838764e",
   "metadata": {},
   "source": [
    "Сколько блюд разных типов:"
   ]
  },
  {
   "cell_type": "code",
   "execution_count": 140,
   "id": "ea9081e9",
   "metadata": {},
   "outputs": [
    {
     "data": {
      "text/plain": [
       "osnovnye-blyuda     482951\n",
       "salaty              243764\n",
       "supy                183055\n",
       "zavtraki             72089\n",
       "pasta-picca          53559\n",
       "sousy-marinady       51319\n",
       "vypechka-deserty     39165\n",
       "sendvichi            27816\n",
       "bulony                3777\n",
       "zagotovki             1151\n",
       "zakuski               1029\n",
       "Name: type, dtype: int64"
      ]
     },
     "execution_count": 140,
     "metadata": {},
     "output_type": "execute_result"
    }
   ],
   "source": [
    "df[\"type\"].value_counts()"
   ]
  },
  {
   "cell_type": "markdown",
   "id": "3a1930d7",
   "metadata": {},
   "source": [
    "Наиболее популярные продукты в целом"
   ]
  },
  {
   "cell_type": "code",
   "execution_count": 141,
   "id": "ea607524",
   "metadata": {},
   "outputs": [
    {
     "data": {
      "text/plain": [
       "Чеснок                  45125\n",
       "Соль                    39058\n",
       "Оливковое масло         38959\n",
       "Лук репчатый            34976\n",
       "Сливочное масло         33875\n",
       "Помидоры                32376\n",
       "Яйцо куриное            26160\n",
       "Пшеничная мука          25353\n",
       "Картофель               23785\n",
       "Перец черный молотый    23054\n",
       "Name: ingredient, dtype: int64"
      ]
     },
     "execution_count": 141,
     "metadata": {},
     "output_type": "execute_result"
    }
   ],
   "source": [
    "popularity = df[\"ingredient\"].value_counts()\n",
    "popularity.head(10)"
   ]
  },
  {
   "cell_type": "markdown",
   "id": "fdd3afb8",
   "metadata": {},
   "source": [
    "Наименее популятные продукты в целом"
   ]
  },
  {
   "cell_type": "code",
   "execution_count": 142,
   "id": "3bd54441",
   "metadata": {},
   "outputs": [
    {
     "data": {
      "text/plain": [
       "Кольраби с ботвой        1\n",
       "Рыба-скорпион            1\n",
       "Молодые плоды люфы       1\n",
       "Бульон бонито            1\n",
       "Сок кинзы                1\n",
       "Валенсийский апельсин    1\n",
       "Бычки                    1\n",
       "Специи для креветок      1\n",
       "Семена черного лука      1\n",
       "Кофейный экстракт        1\n",
       "Name: ingredient, dtype: int64"
      ]
     },
     "execution_count": 142,
     "metadata": {},
     "output_type": "execute_result"
    }
   ],
   "source": [
    "popularity.tail(10)"
   ]
  },
  {
   "cell_type": "markdown",
   "id": "3d17e9cc",
   "metadata": {},
   "source": [
    "Наиболее популярные продукты по категориям"
   ]
  },
  {
   "cell_type": "markdown",
   "id": "8ec54e97",
   "metadata": {},
   "source": [
    "Список категорий:"
   ]
  },
  {
   "cell_type": "code",
   "execution_count": 143,
   "id": "6abba5cb",
   "metadata": {},
   "outputs": [],
   "source": [
    "categories_list = list(set(df[\"type\"]))"
   ]
  },
  {
   "cell_type": "markdown",
   "id": "c83e1cc9",
   "metadata": {},
   "source": [
    "Продукты в каждой категории:"
   ]
  },
  {
   "cell_type": "code",
   "execution_count": 144,
   "id": "72330e16",
   "metadata": {},
   "outputs": [
    {
     "data": {
      "text/html": [
       "<div>\n",
       "<style scoped>\n",
       "    .dataframe tbody tr th:only-of-type {\n",
       "        vertical-align: middle;\n",
       "    }\n",
       "\n",
       "    .dataframe tbody tr th {\n",
       "        vertical-align: top;\n",
       "    }\n",
       "\n",
       "    .dataframe thead th {\n",
       "        text-align: right;\n",
       "    }\n",
       "</style>\n",
       "<table border=\"1\" class=\"dataframe\">\n",
       "  <thead>\n",
       "    <tr style=\"text-align: right;\">\n",
       "      <th></th>\n",
       "      <th>ingredient</th>\n",
       "    </tr>\n",
       "    <tr>\n",
       "      <th>type</th>\n",
       "      <th></th>\n",
       "    </tr>\n",
       "  </thead>\n",
       "  <tbody>\n",
       "    <tr>\n",
       "      <th>bulony</th>\n",
       "      <td>[Грибы, Нут, Шпинат, Картофель, Сельдерей, Лук...</td>\n",
       "    </tr>\n",
       "    <tr>\n",
       "      <th>osnovnye-blyuda</th>\n",
       "      <td>[Вода, Чечевица, Лук репчатый, Морковь, Укроп,...</td>\n",
       "    </tr>\n",
       "    <tr>\n",
       "      <th>pasta-picca</th>\n",
       "      <td>[Пшеничная мука, Соль, Сахар, Вода, Оливковое ...</td>\n",
       "    </tr>\n",
       "    <tr>\n",
       "      <th>salaty</th>\n",
       "      <td>[Перец черный молотый, Консервированная фасоль...</td>\n",
       "    </tr>\n",
       "    <tr>\n",
       "      <th>sendvichi</th>\n",
       "      <td>[Черный цельнозерновой хлеб, Растительное масл...</td>\n",
       "    </tr>\n",
       "    <tr>\n",
       "      <th>sousy-marinady</th>\n",
       "      <td>[Кунжутные семечки, Кунжутное масло, Яичный же...</td>\n",
       "    </tr>\n",
       "    <tr>\n",
       "      <th>supy</th>\n",
       "      <td>[Помидоры, Вода, Кокосовая стружка, Имбирь, Ра...</td>\n",
       "    </tr>\n",
       "    <tr>\n",
       "      <th>vypechka-deserty</th>\n",
       "      <td>[Яйцо куриное, Сахарная пудра, Пшеничная мука,...</td>\n",
       "    </tr>\n",
       "    <tr>\n",
       "      <th>zagotovki</th>\n",
       "      <td>[Вода, Сахар, Соль, Уксус 9%-ный, Белокочанная...</td>\n",
       "    </tr>\n",
       "    <tr>\n",
       "      <th>zakuski</th>\n",
       "      <td>[Мини кальмары, Крупные помидоры черри, Сладки...</td>\n",
       "    </tr>\n",
       "    <tr>\n",
       "      <th>zavtraki</th>\n",
       "      <td>[Козий сыр, Смесь салатных листьев, Мед, Оливк...</td>\n",
       "    </tr>\n",
       "  </tbody>\n",
       "</table>\n",
       "</div>"
      ],
      "text/plain": [
       "                                                         ingredient\n",
       "type                                                               \n",
       "bulony            [Грибы, Нут, Шпинат, Картофель, Сельдерей, Лук...\n",
       "osnovnye-blyuda   [Вода, Чечевица, Лук репчатый, Морковь, Укроп,...\n",
       "pasta-picca       [Пшеничная мука, Соль, Сахар, Вода, Оливковое ...\n",
       "salaty            [Перец черный молотый, Консервированная фасоль...\n",
       "sendvichi         [Черный цельнозерновой хлеб, Растительное масл...\n",
       "sousy-marinady    [Кунжутные семечки, Кунжутное масло, Яичный же...\n",
       "supy              [Помидоры, Вода, Кокосовая стружка, Имбирь, Ра...\n",
       "vypechka-deserty  [Яйцо куриное, Сахарная пудра, Пшеничная мука,...\n",
       "zagotovki         [Вода, Сахар, Соль, Уксус 9%-ный, Белокочанная...\n",
       "zakuski           [Мини кальмары, Крупные помидоры черри, Сладки...\n",
       "zavtraki          [Козий сыр, Смесь салатных листьев, Мед, Оливк..."
      ]
     },
     "execution_count": 144,
     "metadata": {},
     "output_type": "execute_result"
    }
   ],
   "source": [
    "categories = df.groupby(\"type\").agg({\"ingredient\": list})\n",
    "categories"
   ]
  },
  {
   "cell_type": "markdown",
   "id": "c564ca61",
   "metadata": {},
   "source": [
    "Функция для подсчёта популярности в каждой категории:"
   ]
  },
  {
   "cell_type": "code",
   "execution_count": 147,
   "id": "cc97961f",
   "metadata": {},
   "outputs": [],
   "source": [
    "def calculating_popularity(category):\n",
    "    dict_category = dict() # словарь для продуктов в категории\n",
    "    for x in categories.loc[category][\"ingredient\"]: # находим ингредиент в строчке с категорией\n",
    "        dict_category[x] = categories.loc[category][\"ingredient\"].count(x) # ключ — продукт, значение — сколько раз он встречается\n",
    "    dict_category = {k: dict_category[k] for k in sorted(dict_category, key=dict_category.get, reverse=True)} # сортировка по убыванию\n",
    "    list = [(k, v) for k, v in dict_category.items()] # создаётся список туплов\n",
    "    frame = pd.DataFrame(list, columns=['Name', 'Popularity']) # дата фрейм\n",
    "    frame.set_index('Name', inplace=True) # удаляются индексы\n",
    "    frame.head(10).plot.bar(\n",
    "    title=\"Наиболее популярные в категории \" + category,\n",
    "    xlabel=\"Ингредиент\",\n",
    "    ylabel=\"Кол-во рецептов с ним\"\n",
    ")\n",
    "    print(frame)\n",
    "    frame.tail(10).plot.bar(\n",
    "    title=\"Наименее популярные в категории \" + category,\n",
    "    xlabel=\"Ингредиент\",\n",
    "    ylabel=\"Кол-во рецептов с ним\"\n",
    ")"
   ]
  },
  {
   "cell_type": "code",
   "execution_count": 148,
   "id": "a99129b5",
   "metadata": {},
   "outputs": [
    {
     "name": "stdout",
     "output_type": "stream",
     "text": [
      "                       Popularity\n",
      "Name                             \n",
      "Лук репчатый                  330\n",
      "Петрушка                      253\n",
      "Морковь                       208\n",
      "Лавровый лист                 205\n",
      "Черный перец горошком         198\n",
      "...                           ...\n",
      "Пекинская капуста               1\n",
      "Соленые огурцы                  1\n",
      "Говяжья печень                  1\n",
      "Сметана                         1\n",
      "Оливковый майонез               1\n",
      "\n",
      "[214 rows x 1 columns]\n"
     ]
    },
    {
     "data": {
      "image/png": "[encoded data removed]",
      "text/plain": [
       "<Figure size 432x288 with 1 Axes>"
      ]
     },
     "metadata": {
      "needs_background": "light"
     },
     "output_type": "display_data"
    },
    {
     "data": {
      "image/png": "[encoded data removed]",
      "text/plain": [
       "<Figure size 432x288 with 1 Axes>"
      ]
     },
     "metadata": {
      "needs_background": "light"
     },
     "output_type": "display_data"
    }
   ],
   "source": [
    "calculating_popularity(\"bulony\")"
   ]
  },
  {
   "cell_type": "markdown",
   "id": "74cb3c85",
   "metadata": {},
   "source": [
    "Идём по списку категорий, рисуем графики (обновим после того, как догрузится)"
   ]
  },
  {
   "cell_type": "code",
   "execution_count": null,
   "id": "e9f31e4c",
   "metadata": {},
   "outputs": [],
   "source": [
    "for i in categories_list:\n",
    "    calculating_popularity(i)"
   ]
  }
 ],
 "metadata": {
  "kernelspec": {
   "display_name": "Python 3 (ipykernel)",
   "language": "python",
   "name": "python3"
  },
  "language_info": {
   "codemirror_mode": {
    "name": "ipython",
    "version": 3
   },
   "file_extension": ".py",
   "mimetype": "text/x-python",
   "name": "python",
   "nbconvert_exporter": "python",
   "pygments_lexer": "ipython3",
   "version": "3.8.10"
  }
 },
 "nbformat": 4,
 "nbformat_minor": 5
}
